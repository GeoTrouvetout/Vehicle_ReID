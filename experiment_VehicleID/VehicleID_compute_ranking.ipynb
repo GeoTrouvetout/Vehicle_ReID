{
 "cells": [
  {
   "cell_type": "code",
   "execution_count": 25,
   "metadata": {},
   "outputs": [],
   "source": [
    "import json\n",
    "\n",
    "\n",
    "import torch\n",
    "import torch.nn as nn\n",
    "\n",
    "import numpy as np\n",
    "import torchvision\n",
    "from torchvision import datasets, models, transforms\n",
    "\n",
    "from torch.utils.data.sampler import Sampler\n"
   ]
  },
  {
   "cell_type": "code",
   "execution_count": 9,
   "metadata": {},
   "outputs": [],
   "source": [
    "with open(\"./Feat_DenseNet201_VehicleID_test_medium.json\", 'r') as f:\n",
    "    data = json.load(f)"
   ]
  },
  {
   "cell_type": "code",
   "execution_count": 10,
   "metadata": {},
   "outputs": [
    {
     "data": {
      "text/plain": [
       "1600"
      ]
     },
     "execution_count": 10,
     "metadata": {},
     "output_type": "execute_result"
    }
   ],
   "source": [
    "len(data)"
   ]
  },
  {
   "cell_type": "code",
   "execution_count": 75,
   "metadata": {},
   "outputs": [],
   "source": [
    "features_query, features_test = {}, {}\n",
    "len_avg = 0\n",
    "import random\n",
    "\n",
    "for i, id in enumerate(data.keys()):\n",
    "    #if i > 10:\n",
    "    #    break\n",
    "    if len(data[id]) > 2:\n",
    "        #random.shuffle(data[id])\n",
    "        features_query[id] = data[id][0]\n",
    "        features_test[id] = data[id][1:]"
   ]
  },
  {
   "cell_type": "code",
   "execution_count": 76,
   "metadata": {},
   "outputs": [
    {
     "ename": "KeyboardInterrupt",
     "evalue": "",
     "output_type": "error",
     "traceback": [
      "\u001b[0;31m---------------------------------------------------------------------------\u001b[0m",
      "\u001b[0;31mKeyboardInterrupt\u001b[0m                         Traceback (most recent call last)",
      "\u001b[0;32m<ipython-input-76-42c9d89663b6>\u001b[0m in \u001b[0;36m<module>\u001b[0;34m\u001b[0m\n\u001b[1;32m     22\u001b[0m     \u001b[0mn_ctest\u001b[0m \u001b[0;34m=\u001b[0m \u001b[0mlen\u001b[0m\u001b[0;34m(\u001b[0m\u001b[0mfeatures_test\u001b[0m\u001b[0;34m)\u001b[0m\u001b[0;34m\u001b[0m\u001b[0;34m\u001b[0m\u001b[0m\n\u001b[1;32m     23\u001b[0m     \u001b[0;32mfor\u001b[0m \u001b[0mctest\u001b[0m\u001b[0;34m,\u001b[0m \u001b[0mftest\u001b[0m \u001b[0;32min\u001b[0m \u001b[0mfeatures_test\u001b[0m\u001b[0;34m.\u001b[0m\u001b[0mitems\u001b[0m\u001b[0;34m(\u001b[0m\u001b[0;34m)\u001b[0m\u001b[0;34m:\u001b[0m\u001b[0;34m\u001b[0m\u001b[0;34m\u001b[0m\u001b[0m\n\u001b[0;32m---> 24\u001b[0;31m         \u001b[0mftest\u001b[0m \u001b[0;34m=\u001b[0m \u001b[0mtorch\u001b[0m\u001b[0;34m.\u001b[0m\u001b[0mFloatTensor\u001b[0m\u001b[0;34m(\u001b[0m\u001b[0mftest\u001b[0m\u001b[0;34m)\u001b[0m\u001b[0;34m\u001b[0m\u001b[0;34m\u001b[0m\u001b[0m\n\u001b[0m\u001b[1;32m     25\u001b[0m         \u001b[0mn_t\u001b[0m \u001b[0;34m+=\u001b[0m \u001b[0;36m1\u001b[0m\u001b[0;34m\u001b[0m\u001b[0;34m\u001b[0m\u001b[0m\n\u001b[1;32m     26\u001b[0m         \u001b[0mlistc\u001b[0m\u001b[0;34m.\u001b[0m\u001b[0mappend\u001b[0m\u001b[0;34m(\u001b[0m\u001b[0mctest\u001b[0m\u001b[0;34m)\u001b[0m\u001b[0;34m\u001b[0m\u001b[0;34m\u001b[0m\u001b[0m\n",
      "\u001b[0;31mKeyboardInterrupt\u001b[0m: "
     ]
    }
   ],
   "source": [
    "device = torch.device(\"cuda:\"+str(n_cuda) if torch.cuda.is_available() else \"cpu\")\n",
    "cos= nn.CosineSimilarity(dim=1, eps=1e-6)\n",
    "\n",
    "running_corrects = 0.0\n",
    "\n",
    "running_data = 0.0\n",
    "MATCH = {}\n",
    "metric=\"MCD\"\n",
    "\n",
    "for cquery, fquery in features_query.items():\n",
    "\n",
    "    fquery = torch.FloatTensor(fquery)\n",
    "    fquery = fquery.unsqueeze(0)\n",
    "    running_data += 1.0        \n",
    "\n",
    "    listc =[]\n",
    "    listd = []\n",
    "    dmin = 1000000000\n",
    "    class_found=\"\"\n",
    "\n",
    "    n_t=0\n",
    "    n_ctest = len(features_test)\n",
    "    for ctest, ftest in features_test.items():\n",
    "        ftest = torch.FloatTensor(ftest)\n",
    "        n_t += 1\n",
    "        listc.append(ctest)\n",
    "        l_d = []\n",
    "        for f in ftest: \n",
    "\n",
    "            _dmin = 1000000000\n",
    "            for g in fquery:\n",
    "                if metric == \"MCD\":\n",
    "                    d = 1 - cos(g.unsqueeze(0), f.unsqueeze(0))\n",
    "                elif metric == \"MED\":\n",
    "                    d = torch.norm(g - f)\n",
    "                else:\n",
    "                    raise Exception('metric should be either MED or MCD')\n",
    "                _dmin = min(_dmin, d.item() )\n",
    "                l_d.append(_dmin)\n",
    "        l50_d = sorted(l_d)[:int(len(l_d)/2)+1]\n",
    "\n",
    "        d = np.mean(l50_d)\n",
    "        listd.append(d)\n",
    "        if d < dmin:\n",
    "            dmin = d\n",
    "            class_found = ctest\n",
    "    MATCH[cquery] = {}\n",
    "\n",
    "    for i, (d, c) in enumerate(sorted(zip(listd, listc))):\n",
    "        MATCH[cquery][i+1] = {\"id\": c, \"distance\":d}\n",
    "\n"
   ]
  },
  {
   "cell_type": "code",
   "execution_count": 46,
   "metadata": {},
   "outputs": [],
   "source": [
    "with open(\"MATCH_I2T_MCD_DenseNet201_VehicleID_test_medium\",\"w\") as tmpfile:\n",
    "    tmpfile.write(json.dumps(MATCH))\n"
   ]
  },
  {
   "cell_type": "code",
   "execution_count": 78,
   "metadata": {},
   "outputs": [
    {
     "ename": "FileNotFoundError",
     "evalue": "[Errno 2] No such file or directory: 'MATCH_I2T_MCD_DenseNet201_VehicleID_test_medium.json'",
     "output_type": "error",
     "traceback": [
      "\u001b[0;31m---------------------------------------------------------------------------\u001b[0m",
      "\u001b[0;31mFileNotFoundError\u001b[0m                         Traceback (most recent call last)",
      "\u001b[0;32m<ipython-input-78-b8770286eaed>\u001b[0m in \u001b[0;36m<module>\u001b[0;34m\u001b[0m\n\u001b[0;32m----> 1\u001b[0;31m \u001b[0;32mwith\u001b[0m \u001b[0mopen\u001b[0m\u001b[0;34m(\u001b[0m\u001b[0;34m\"MATCH_I2T_MCD_DenseNet201_VehicleID_test_medium.json\"\u001b[0m\u001b[0;34m,\u001b[0m \u001b[0;34m'r'\u001b[0m\u001b[0;34m)\u001b[0m \u001b[0;32mas\u001b[0m \u001b[0mf\u001b[0m\u001b[0;34m:\u001b[0m\u001b[0;34m\u001b[0m\u001b[0;34m\u001b[0m\u001b[0m\n\u001b[0m\u001b[1;32m      2\u001b[0m     \u001b[0mMATCH\u001b[0m \u001b[0;34m=\u001b[0m \u001b[0mjson\u001b[0m\u001b[0;34m.\u001b[0m\u001b[0mload\u001b[0m\u001b[0;34m(\u001b[0m\u001b[0mf\u001b[0m\u001b[0;34m)\u001b[0m\u001b[0;34m\u001b[0m\u001b[0;34m\u001b[0m\u001b[0m\n",
      "\u001b[0;31mFileNotFoundError\u001b[0m: [Errno 2] No such file or directory: 'MATCH_I2T_MCD_DenseNet201_VehicleID_test_medium.json'"
     ]
    }
   ],
   "source": [
    "with open(\"MATCH_I2T_MCD_DenseNet201_VehicleID_test_medium.json\", 'r') as f:\n",
    "    MATCH = json.load(f)"
   ]
  },
  {
   "cell_type": "code",
   "execution_count": 72,
   "metadata": {},
   "outputs": [
    {
     "name": "stdout",
     "output_type": "stream",
     "text": [
      "950 0.59375\n",
      "1192 0.745\n"
     ]
    }
   ],
   "source": [
    "rank1 = 0\n",
    "rank5 = 0\n",
    "mAP = 0\n",
    "n=0\n",
    "for id, ranking in MATCH.items():\n",
    "    #print(id, ranking[1][\"id\"])\n",
    "    listrank=[ranking[i+1][\"id\"] for i in range(len(ranking))]\n",
    "    listrank5 = [ranking[i+1][\"id\"] for i in range(5)]\n",
    "    if id==ranking[1][\"id\"]: rank1+=1\n",
    "    if id in listrank5: rank5+=1\n",
    "    mAP += 1/(listrank.index(id)+1)\n",
    "    \n",
    "    n+=1\n",
    "print(rank1, rank1/n)\n",
    "print(rank5, rank5/n)\n",
    "print(mAP, mAP/n)"
   ]
  },
  {
   "cell_type": "code",
   "execution_count": null,
   "metadata": {},
   "outputs": [],
   "source": []
  }
 ],
 "metadata": {
  "kernelspec": {
   "display_name": "Python 3",
   "language": "python",
   "name": "python3"
  },
  "language_info": {
   "codemirror_mode": {
    "name": "ipython",
    "version": 3
   },
   "file_extension": ".py",
   "mimetype": "text/x-python",
   "name": "python",
   "nbconvert_exporter": "python",
   "pygments_lexer": "ipython3",
   "version": "3.8.2"
  }
 },
 "nbformat": 4,
 "nbformat_minor": 2
}
